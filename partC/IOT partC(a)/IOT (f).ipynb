{
 "cells": [
  {
   "cell_type": "markdown",
   "metadata": {},
   "source": [
    "# IOT HW1 - partB (f)\n",
    "b10615045"
   ]
  },
  {
   "cell_type": "code",
   "execution_count": 1,
   "metadata": {},
   "outputs": [],
   "source": [
    "import os\n",
    "import numpy as np\n",
    "import pandas as pd"
   ]
  },
  {
   "cell_type": "markdown",
   "metadata": {},
   "source": [
    "## 合併csv，並標記類別"
   ]
  },
  {
   "cell_type": "code",
   "execution_count": 31,
   "metadata": {},
   "outputs": [
    {
     "name": "stdout",
     "output_type": "stream",
     "text": [
      "/Users/shungfu/Desktop/IOT/Data_Acc\n",
      "./\n",
      "[]\n",
      "['.DS_Store', 'Walk_Acc.csv', 'Study2_Acc.csv', 'Riding2_Acc.csv', 'Study1_Acc.csv', 'Riding1_Acc.csv']\n"
     ]
    }
   ],
   "source": [
    "# 到檔案資料夾內\n",
    "try:\n",
    "    os.chdir('./Data_Acc')\n",
    "except:\n",
    "    pass\n",
    "print(os.getcwd())\n",
    "\n",
    "# 合併csv\n",
    "data = []\n",
    "for root, dirs, files in os.walk('./'):\n",
    "    print(root)\n",
    "    print(dirs)\n",
    "    print(files)\n",
    "    for file in files:\n",
    "        if(file != '.DS_Store'):\n",
    "            temp = pd.read_csv(file, usecols = ['X','Y','Z'])\n",
    "            if(file[0].upper() == 'R'):\n",
    "                label = 0\n",
    "            elif(file[0].upper() == 'W'):\n",
    "                label = 1\n",
    "            elif(file[0].upper() == 'S'):\n",
    "                label = 2\n",
    "            else:\n",
    "                label = 3\n",
    "            temp['label'] = label\n",
    "            data.append(temp)\n",
    "            \n",
    "# print(data)\n",
    "result = pd.concat(data, ignore_index = True)\n",
    "result.to_csv('result.csv', sep='\\t', encoding='utf-8')"
   ]
  },
  {
   "cell_type": "code",
   "execution_count": 32,
   "metadata": {
    "scrolled": true
   },
   "outputs": [
    {
     "data": {
      "text/html": [
       "<div>\n",
       "<style scoped>\n",
       "    .dataframe tbody tr th:only-of-type {\n",
       "        vertical-align: middle;\n",
       "    }\n",
       "\n",
       "    .dataframe tbody tr th {\n",
       "        vertical-align: top;\n",
       "    }\n",
       "\n",
       "    .dataframe thead th {\n",
       "        text-align: right;\n",
       "    }\n",
       "</style>\n",
       "<table border=\"1\" class=\"dataframe\">\n",
       "  <thead>\n",
       "    <tr style=\"text-align: right;\">\n",
       "      <th></th>\n",
       "      <th>X</th>\n",
       "      <th>Y</th>\n",
       "      <th>Z</th>\n",
       "      <th>label</th>\n",
       "    </tr>\n",
       "  </thead>\n",
       "  <tbody>\n",
       "    <tr>\n",
       "      <td>0</td>\n",
       "      <td>0.256187</td>\n",
       "      <td>2.966506</td>\n",
       "      <td>9.409500</td>\n",
       "      <td>1</td>\n",
       "    </tr>\n",
       "    <tr>\n",
       "      <td>1</td>\n",
       "      <td>-2.669617</td>\n",
       "      <td>4.477294</td>\n",
       "      <td>9.488511</td>\n",
       "      <td>1</td>\n",
       "    </tr>\n",
       "    <tr>\n",
       "      <td>2</td>\n",
       "      <td>1.357554</td>\n",
       "      <td>-0.193936</td>\n",
       "      <td>9.093455</td>\n",
       "      <td>1</td>\n",
       "    </tr>\n",
       "    <tr>\n",
       "      <td>3</td>\n",
       "      <td>0.095771</td>\n",
       "      <td>0.088588</td>\n",
       "      <td>9.893144</td>\n",
       "      <td>1</td>\n",
       "    </tr>\n",
       "    <tr>\n",
       "      <td>4</td>\n",
       "      <td>0.114925</td>\n",
       "      <td>0.088588</td>\n",
       "      <td>9.890749</td>\n",
       "      <td>1</td>\n",
       "    </tr>\n",
       "    <tr>\n",
       "      <td>...</td>\n",
       "      <td>...</td>\n",
       "      <td>...</td>\n",
       "      <td>...</td>\n",
       "      <td>...</td>\n",
       "    </tr>\n",
       "    <tr>\n",
       "      <td>28540</td>\n",
       "      <td>-0.052674</td>\n",
       "      <td>0.098165</td>\n",
       "      <td>9.921875</td>\n",
       "      <td>0</td>\n",
       "    </tr>\n",
       "    <tr>\n",
       "      <td>28541</td>\n",
       "      <td>-0.011971</td>\n",
       "      <td>0.088588</td>\n",
       "      <td>9.921875</td>\n",
       "      <td>0</td>\n",
       "    </tr>\n",
       "    <tr>\n",
       "      <td>28542</td>\n",
       "      <td>-0.052674</td>\n",
       "      <td>0.098165</td>\n",
       "      <td>9.941029</td>\n",
       "      <td>0</td>\n",
       "    </tr>\n",
       "    <tr>\n",
       "      <td>28543</td>\n",
       "      <td>-0.035914</td>\n",
       "      <td>0.105348</td>\n",
       "      <td>9.919480</td>\n",
       "      <td>0</td>\n",
       "    </tr>\n",
       "    <tr>\n",
       "      <td>28544</td>\n",
       "      <td>-0.033520</td>\n",
       "      <td>0.076617</td>\n",
       "      <td>9.902720</td>\n",
       "      <td>0</td>\n",
       "    </tr>\n",
       "  </tbody>\n",
       "</table>\n",
       "<p>28545 rows × 4 columns</p>\n",
       "</div>"
      ],
      "text/plain": [
       "              X         Y         Z  label\n",
       "0      0.256187  2.966506  9.409500      1\n",
       "1     -2.669617  4.477294  9.488511      1\n",
       "2      1.357554 -0.193936  9.093455      1\n",
       "3      0.095771  0.088588  9.893144      1\n",
       "4      0.114925  0.088588  9.890749      1\n",
       "...         ...       ...       ...    ...\n",
       "28540 -0.052674  0.098165  9.921875      0\n",
       "28541 -0.011971  0.088588  9.921875      0\n",
       "28542 -0.052674  0.098165  9.941029      0\n",
       "28543 -0.035914  0.105348  9.919480      0\n",
       "28544 -0.033520  0.076617  9.902720      0\n",
       "\n",
       "[28545 rows x 4 columns]"
      ]
     },
     "execution_count": 32,
     "metadata": {},
     "output_type": "execute_result"
    }
   ],
   "source": [
    "result"
   ]
  },
  {
   "cell_type": "markdown",
   "metadata": {},
   "source": [
    "## Split test and train and shuffle"
   ]
  },
  {
   "cell_type": "code",
   "execution_count": 40,
   "metadata": {},
   "outputs": [
    {
     "name": "stdout",
     "output_type": "stream",
     "text": [
      "Train Data Shape:  (19981, 3) \n",
      "Train target Shape:  (19981, 1)\n",
      "Test Data Shape:  (8564, 3) \n",
      "Test target Shape:  (8564, 1)\n"
     ]
    }
   ],
   "source": [
    "from sklearn.model_selection import train_test_split\n",
    "\n",
    "data = result.iloc[:, :-1]\n",
    "target = pd.DataFrame(result.iloc[:, -1])\n",
    "\n",
    "data_train,data_test,target_train,target_test = train_test_split(data, target,test_size = 0.3)\n",
    "print('Train Data Shape: ',data_train.shape, '\\nTrain target Shape: ',target_train.shape)\n",
    "print('Test Data Shape: ',data_test.shape, '\\nTest target Shape: ',target_test.shape)"
   ]
  },
  {
   "cell_type": "markdown",
   "metadata": {},
   "source": [
    "## Knn models"
   ]
  },
  {
   "cell_type": "code",
   "execution_count": 43,
   "metadata": {},
   "outputs": [
    {
     "data": {
      "text/plain": [
       "KNeighborsClassifier(algorithm='auto', leaf_size=30, metric='minkowski',\n",
       "                     metric_params=None, n_jobs=None, n_neighbors=5, p=2,\n",
       "                     weights='uniform')"
      ]
     },
     "execution_count": 43,
     "metadata": {},
     "output_type": "execute_result"
    }
   ],
   "source": [
    "from sklearn.neighbors import KNeighborsClassifier\n",
    "knn = KNeighborsClassifier(n_neighbors = 5)\n",
    "knn.fit(data_train, target_train.values.ravel())"
   ]
  },
  {
   "cell_type": "markdown",
   "metadata": {},
   "source": [
    "## Eval Model"
   ]
  },
  {
   "cell_type": "code",
   "execution_count": 46,
   "metadata": {},
   "outputs": [
    {
     "name": "stdout",
     "output_type": "stream",
     "text": [
      "Test Accurency: 0.9880896777206912\n"
     ]
    }
   ],
   "source": [
    "print(\"Test Accurency:\", knn.score(data_test, target_test))"
   ]
  },
  {
   "cell_type": "code",
   "execution_count": 100,
   "metadata": {},
   "outputs": [
    {
     "name": "stdout",
     "output_type": "stream",
     "text": [
      "Data: \n",
      "[ 0.08140534 -0.07422252  9.90272   ]\n",
      "Real: \n",
      "2\n",
      "Predict: \n",
      "2\n",
      "\n",
      "Data: \n",
      "[2.4637089 6.5746784 7.0080423]\n",
      "Real: \n",
      "0\n",
      "Predict: \n",
      "0\n",
      "\n",
      "Data: \n",
      "[2.8252442 4.625739  8.0375805]\n",
      "Real: \n",
      "2\n",
      "Predict: \n",
      "2\n",
      "\n",
      "Data: \n",
      "[-0.0670397   0.08619389  9.895537  ]\n",
      "Real: \n",
      "1\n",
      "Predict: \n",
      "1\n",
      "\n",
      "Data: \n",
      "[-0.0287313   0.43815228  9.888355  ]\n",
      "Real: \n",
      "1\n",
      "Predict: \n",
      "1\n",
      "\n"
     ]
    }
   ],
   "source": [
    "predict = data_test.iloc[:5]\n",
    "pre= knn.predict(predict)\n",
    "\n",
    "real = target_test.iloc[:5]\n",
    "real = np.array(real).reshape(-1)\n",
    "\n",
    "for i in range(0,5):\n",
    "    print('Data: ', predict.iloc[i].values, 'Real: ', real[i],'Predict: ', pre[i], sep = '\\n', end = '\\n\\n')"
   ]
  }
 ],
 "metadata": {
  "kernelspec": {
   "display_name": "Python 3",
   "language": "python",
   "name": "python3"
  },
  "language_info": {
   "codemirror_mode": {
    "name": "ipython",
    "version": 3
   },
   "file_extension": ".py",
   "mimetype": "text/x-python",
   "name": "python",
   "nbconvert_exporter": "python",
   "pygments_lexer": "ipython3",
   "version": "3.7.2"
  }
 },
 "nbformat": 4,
 "nbformat_minor": 2
}
